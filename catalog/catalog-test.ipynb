{
 "cells": [
  {
   "cell_type": "code",
   "execution_count": 6,
   "metadata": {},
   "outputs": [],
   "source": [
    "import intake\n",
    "cat = intake.open_catalog('config.yaml')"
   ]
  },
  {
   "cell_type": "code",
   "execution_count": 7,
   "metadata": {},
   "outputs": [
    {
     "data": {
      "text/plain": [
       "['CNRM_CM6_1.historical.r1i1p1f2.tas',\n",
       " 'CNRM_CM6_1.historical.r2i1p1f2.tas',\n",
       " 'CNRM_ESM2_1.historical.r1i1p1f2.tas',\n",
       " 'GISS_E2_1_G.historical.r1i1p1f1.tas',\n",
       " 'IPSL_CM6A_LR.historical.r1i1p1f1.tas',\n",
       " 'IPSL_CM6A_LR.historical.r2i1p1f1.tas',\n",
       " 'IPSL_CM6A_LR.historical.r3i1p1f1.tas',\n",
       " 'IPSL_CM6A_LR.historical.r4i1p1f1.tas',\n",
       " 'IPSL_CM6A_LR.historical.r5i1p1f1.tas',\n",
       " 'IPSL_CM6A_LR.historical.r6i1p1f1.tas',\n",
       " 'IPSL_CM6A_LR.historical.r7i1p1f1.tas']"
      ]
     },
     "execution_count": 7,
     "metadata": {},
     "output_type": "execute_result"
    }
   ],
   "source": [
    "cat2 = cat.search('temperature', depth=8)\n",
    "list(cat2)"
   ]
  },
  {
   "cell_type": "code",
   "execution_count": null,
   "metadata": {},
   "outputs": [],
   "source": [
    "# Loading the zarr data works great: \n",
    "dz = cat.CNRM_CM6_1.historical.r2i1p1f2.tas.to_dask()\n",
    "dz"
   ]
  },
  {
   "cell_type": "code",
   "execution_count": null,
   "metadata": {},
   "outputs": [],
   "source": [
    "# The model shows up on a <tab> complete:\n",
    "cat."
   ]
  },
  {
   "cell_type": "code",
   "execution_count": null,
   "metadata": {},
   "outputs": [],
   "source": [
    "# But the next choice (historical) does not:\n",
    "cat.CNRM_CM6_1."
   ]
  }
 ],
 "metadata": {
  "kernelspec": {
   "display_name": "pangeo3.7",
   "language": "python",
   "name": "pangeo3.7"
  },
  "language_info": {
   "codemirror_mode": {
    "name": "ipython",
    "version": 3
   },
   "file_extension": ".py",
   "mimetype": "text/x-python",
   "name": "python",
   "nbconvert_exporter": "python",
   "pygments_lexer": "ipython3",
   "version": "3.6.7"
  }
 },
 "nbformat": 4,
 "nbformat_minor": 2
}
