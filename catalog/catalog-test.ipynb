{
 "cells": [
  {
   "cell_type": "code",
   "execution_count": 13,
   "metadata": {},
   "outputs": [],
   "source": [
    "import intake\n",
    "cat = intake.open_catalog('config.yaml')"
   ]
  },
  {
   "cell_type": "code",
   "execution_count": 20,
   "metadata": {},
   "outputs": [
    {
     "data": {
      "text/plain": [
       "<xarray.Dataset>\n",
       "Dimensions:      (axis_nbounds: 2, lat: 128, lon: 256, time: 482120)\n",
       "Coordinates:\n",
       "    height       float64 ...\n",
       "  * lat          (lat) float64 -88.93 -87.54 -86.14 -84.74 ... 86.14 87.54 88.93\n",
       "  * lon          (lon) float64 0.0 1.406 2.812 4.219 ... 354.4 355.8 357.2 358.6\n",
       "  * time         (time) datetime64[ns] 1850-01-01T03:00:00 ... 2015-01-01\n",
       "    time_bounds  (time, axis_nbounds) datetime64[ns] dask.array<shape=(482120, 2), chunksize=(60265, 1)>\n",
       "Dimensions without coordinates: axis_nbounds\n",
       "Data variables:\n",
       "    tas          (time, lat, lon) float32 dask.array<shape=(482120, 128, 256), chunksize=(900, 128, 256)>\n",
       "Attributes:\n",
       "    CMIP6_CV_version:       cv=6.2.3.0-7-g2019642\n",
       "    Conventions:            CF-1.7 CMIP-6.2\n",
       "    EXPID:                  CNRM-CM6-1_historical_r2i1p1f2\n",
       "    NCO:                    \"4.5.5\"\n",
       "    activity_id:            CMIP\n",
       "    arpege_minor_version:   6.3.2\n",
       "    branch_method:          standard\n",
       "    branch_time_in_child:   0.0\n",
       "    branch_time_in_parent:  12053.0\n",
       "    contact:                contact.cmip@meteo.fr\n",
       "    creation_date:          2018-06-20T06:48:28Z\n",
       "    data_specs_version:     01.00.21\n",
       "    description:            CMIP6 historical\n",
       "    dr2xml_md5sum:          d6225e658d7de0912fca2a4293dbe2a7\n",
       "    dr2xml_version:         1.10\n",
       "    experiment:             all-forcing simulation of the recent past\n",
       "    experiment_id:          historical\n",
       "    external_variables:     areacella\n",
       "    forcing_index:          2\n",
       "    frequency:              3hrPt\n",
       "    further_info_url:       https://furtherinfo.es-doc.org/CMIP6.CNRM-CERFACS...\n",
       "    grid:                   data regridded to a T127 gaussian grid (128x256 l...\n",
       "    grid_label:             gr\n",
       "    history:                none\n",
       "    initialization_index:   1\n",
       "    institution:            CNRM (Centre National de Recherches Meteorologiqu...\n",
       "    institution_id:         CNRM-CERFACS\n",
       "    license:                CMIP6 model data produced by CNRM-CERFACS is lice...\n",
       "    mip_era:                CMIP6\n",
       "    nemo_gelato_commit:     49095b3accd5d4c_6524fe19b00467a\n",
       "    nominal_resolution:     250 km\n",
       "    parent_activity_id:     CMIP\n",
       "    parent_experiment_id:   piControl\n",
       "    parent_mip_era:         CMIP6\n",
       "    parent_source_id:       CNRM-CM6-1\n",
       "    parent_time_units:      days since 1850-01-01 00:00:00\n",
       "    parent_variant_label:   r1i1p1f2\n",
       "    physics_index:          1\n",
       "    product:                model-output\n",
       "    realization_index:      2\n",
       "    realm:                  atmos\n",
       "    references:             http://www.umr-cnrm.fr/cmip6/references\n",
       "    source:                 CNRM-CM6-1 (2017):  aerosol: prescribed monthly f...\n",
       "    source_id:              CNRM-CM6-1\n",
       "    source_type:            AOGCM\n",
       "    sub_experiment:         none\n",
       "    sub_experiment_id:      none\n",
       "    table_id:               3hr\n",
       "    title:                  CNRM-CM6-1 model output prepared for CMIP6 / CMIP...\n",
       "    tracking_id:            hdl:21.14100/bdb2b8a3-e739-4606-bab0-ca257cb1a669\n",
       "    variable_id:            tas\n",
       "    variant_label:          r2i1p1f2\n",
       "    xios_commit:            1442-shuffle"
      ]
     },
     "execution_count": 20,
     "metadata": {},
     "output_type": "execute_result"
    }
   ],
   "source": [
    "# Loading the zarr data works great: \n",
    "dz = cat.CNRM_CM6_1.historical.r2i1p1f2.tas.to_dask()\n",
    "dz"
   ]
  },
  {
   "cell_type": "code",
   "execution_count": 7,
   "metadata": {},
   "outputs": [
    {
     "data": {
      "text/plain": [
       "<Catalog Entry: pr>"
      ]
     },
     "execution_count": 7,
     "metadata": {},
     "output_type": "execute_result"
    }
   ],
   "source": [
    "# The model shows up on a <tab> complete:\n",
    "cat."
   ]
  },
  {
   "cell_type": "code",
   "execution_count": 8,
   "metadata": {},
   "outputs": [
    {
     "data": {
      "text/plain": [
       "<Catalog Entry: tas>"
      ]
     },
     "execution_count": 8,
     "metadata": {},
     "output_type": "execute_result"
    }
   ],
   "source": [
    "# But the next choice (historical) does not:\n",
    "cat.CNRM_CM6_1."
   ]
  }
 ],
 "metadata": {
  "kernelspec": {
   "display_name": "pangeo3.7",
   "language": "python",
   "name": "pangeo3.7"
  },
  "language_info": {
   "codemirror_mode": {
    "name": "ipython",
    "version": 3
   },
   "file_extension": ".py",
   "mimetype": "text/x-python",
   "name": "python",
   "nbconvert_exporter": "python",
   "pygments_lexer": "ipython3",
   "version": "3.6.7"
  }
 },
 "nbformat": 4,
 "nbformat_minor": 2
}
